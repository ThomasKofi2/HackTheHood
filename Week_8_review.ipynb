{
  "nbformat": 4,
  "nbformat_minor": 0,
  "metadata": {
    "colab": {
      "provenance": [],
      "authorship_tag": "ABX9TyOT76Bg8pBOAlKHqnI3S2xw",
      "include_colab_link": true
    },
    "kernelspec": {
      "name": "python3",
      "display_name": "Python 3"
    },
    "language_info": {
      "name": "python"
    }
  },
  "cells": [
    {
      "cell_type": "markdown",
      "metadata": {
        "id": "view-in-github",
        "colab_type": "text"
      },
      "source": [
        "<a href=\"https://colab.research.google.com/github/ThomasKofi2/HackTheHood/blob/main/Week_8_review.ipynb\" target=\"_parent\"><img src=\"https://colab.research.google.com/assets/colab-badge.svg\" alt=\"Open In Colab\"/></a>"
      ]
    },
    {
      "cell_type": "markdown",
      "source": [
        "Functions w/ a print statement"
      ],
      "metadata": {
        "id": "uEcq2Jlhnx9P"
      }
    },
    {
      "cell_type": "code",
      "source": [
        "def generate_superhero_power(name, superpower):\n",
        "    # Define a user name and superhero power\n",
        "\n",
        "    # Combine the user's name with the given superhero power\n",
        " superhero_identity = f\"{name} has the power of {superpower}\"\n",
        "    # Print the result\n",
        " print(superhero_identity)\n",
        "# Example usage\n",
        "generate_superhero_power(\"Batman\", \"Telekinesis\")\n",
        "# Call the function\n"
      ],
      "metadata": {
        "colab": {
          "base_uri": "https://localhost:8080/"
        },
        "id": "tXV85ileoByc",
        "outputId": "f22195ed-2b47-4dc2-a45b-84b7e90d984d"
      },
      "execution_count": 5,
      "outputs": [
        {
          "output_type": "stream",
          "name": "stdout",
          "text": [
            "Batman has the power of Telekinesis\n"
          ]
        }
      ]
    },
    {
      "cell_type": "markdown",
      "source": [
        "Functions w/ return statement and arguments"
      ],
      "metadata": {
        "id": "6TCYXBBMtpTq"
      }
    },
    {
      "cell_type": "code",
      "source": [
        "#hint use ()\n",
        "# Define functioon w/ arguments name + power\n",
        "  # Combine the user's name with the given superhero power\n",
        "  # Return the result\n",
        "\n",
        "# Example usage\n",
        "# Call the function with arguments and print the result\n",
        "\n",
        "def generate_superhero_power(name, superpower):\n",
        "\n",
        " superhero_identity = f\"{name} has the power of {superpower}\"\n",
        " return superhero_identity\n",
        "\n",
        "user_name = input( \"Enter your superhero's name \")\n",
        "user_power = input(\"Enter your superhero's power \")\n",
        "\n",
        "result = generate_superhero_power(user_name, user_power)\n",
        "print(result)"
      ],
      "metadata": {
        "colab": {
          "base_uri": "https://localhost:8080/"
        },
        "id": "cSHM4jDFttpN",
        "outputId": "e7ca4cf2-e101-42f1-e106-137c3352f68a"
      },
      "execution_count": 10,
      "outputs": [
        {
          "output_type": "stream",
          "name": "stdout",
          "text": [
            "Enter your superhero's name Henry\n",
            "Enter your superhero's power Powerless\n",
            "Henry has the power of Powerless\n"
          ]
        }
      ]
    },
    {
      "cell_type": "code",
      "source": [
        "# Define a class named Cat\n",
        "\n",
        "class Cat:\n",
        "  # The __init__ method initializes the object (it's the start)\n",
        "  def __init__(self, name, age):\n",
        "    self.name = name # Set the cat's name\n",
        "    self.age = age    # Set the cat's age\n",
        "\n",
        "  # Method to make the cat \"meow\"\n",
        "  def meow(self):\n",
        "    print(f\"{self.name} says 'Meow!'\")  # Print the meow message\n",
        "\n",
        "# Print the name of the cat\n",
        "# first, create an object instanct of the class Cat\n",
        "cat1 = Cat('Whiskers', 3)\n",
        "#I can now access all the attributse (name, age) of cat1 aka whiskers\n",
        "print(cat1.name, cat1.age)\n",
        "cat1.meow()\n",
        "\n",
        "# Add more cats\n",
        "\n",
        "\n",
        "#make a new statement saying good bye to the cat"
      ],
      "metadata": {
        "id": "l-U3H3UV1Xsj"
      },
      "execution_count": null,
      "outputs": []
    }
  ]
}