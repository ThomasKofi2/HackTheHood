{
  "nbformat": 4,
  "nbformat_minor": 0,
  "metadata": {
    "colab": {
      "provenance": [],
      "authorship_tag": "ABX9TyPK9adsUVYFlF/t9Mlpd66s",
      "include_colab_link": true
    },
    "kernelspec": {
      "name": "python3",
      "display_name": "Python 3"
    },
    "language_info": {
      "name": "python"
    }
  },
  "cells": [
    {
      "cell_type": "markdown",
      "metadata": {
        "id": "view-in-github",
        "colab_type": "text"
      },
      "source": [
        "<a href=\"https://colab.research.google.com/github/ThomasKofi2/HackTheHood/blob/main/Untitled0.ipynb\" target=\"_parent\"><img src=\"https://colab.research.google.com/assets/colab-badge.svg\" alt=\"Open In Colab\"/></a>"
      ]
    },
    {
      "cell_type": "markdown",
      "source": [
        "## Coding Practice"
      ],
      "metadata": {
        "id": "uvzf2ikjOvlG"
      }
    },
    {
      "cell_type": "code",
      "execution_count": null,
      "metadata": {
        "id": "lXi9aDplHctZ"
      },
      "outputs": [],
      "source": [
        "x = [1, 2, 3, 4, 5]\n",
        "for anything_else in x:\n",
        "    print ('Hello World')\n",
        "\n",
        "    x = [1, 2, 3, 4, 5]\n",
        "# In this line I am defining a variable `x` and I am assigning a list of number from 1 to 5\n",
        "for anything_else in x:\n",
        "    # In this line I am defining a `for` loop with an iterator of `anything_else` to iterate through my variable `x` which contains a list from 1 to 5\n",
        "    print ('Hello World')\n",
        "    # In this line I am printing `Hello world`"
      ]
    }
  ]
}