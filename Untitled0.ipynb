{
  "nbformat": 4,
  "nbformat_minor": 0,
  "metadata": {
    "colab": {
      "provenance": [],
      "authorship_tag": "ABX9TyP2fChZXCOF1Rudq/0B6Yqm",
      "include_colab_link": true
    },
    "kernelspec": {
      "name": "python3",
      "display_name": "Python 3"
    },
    "language_info": {
      "name": "python"
    }
  },
  "cells": [
    {
      "cell_type": "markdown",
      "metadata": {
        "id": "view-in-github",
        "colab_type": "text"
      },
      "source": [
        "<a href=\"https://colab.research.google.com/github/ThomasKofi2/HackTheHood/blob/main/Untitled0.ipynb\" target=\"_parent\"><img src=\"https://colab.research.google.com/assets/colab-badge.svg\" alt=\"Open In Colab\"/></a>"
      ]
    },
    {
      "cell_type": "code",
      "execution_count": null,
      "metadata": {
        "id": "KWb2aUsSdQM_"
      },
      "outputs": [],
      "source": []
    },
    {
      "cell_type": "markdown",
      "source": [
        "Thomas Acheampong,\n",
        "Tiger Team Pink,\n",
        "Time: Wednesdays 1pm-3pm"
      ],
      "metadata": {
        "id": "68HIA_-EdTvt"
      }
    },
    {
      "cell_type": "markdown",
      "source": [
        "https://github.com/ThomasKofi2"
      ],
      "metadata": {
        "id": "lv6ndc2SdoyB"
      }
    }
  ]
}