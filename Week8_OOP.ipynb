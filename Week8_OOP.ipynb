{
  "nbformat": 4,
  "nbformat_minor": 0,
  "metadata": {
    "colab": {
      "provenance": [],
      "include_colab_link": true
    },
    "kernelspec": {
      "name": "python3",
      "display_name": "Python 3"
    },
    "language_info": {
      "name": "python"
    }
  },
  "cells": [
    {
      "cell_type": "markdown",
      "metadata": {
        "id": "view-in-github",
        "colab_type": "text"
      },
      "source": [
        "<a href=\"https://colab.research.google.com/github/ThomasKofi2/HackTheHood/blob/main/Week8_OOP.ipynb\" target=\"_parent\"><img src=\"https://colab.research.google.com/assets/colab-badge.svg\" alt=\"Open In Colab\"/></a>"
      ]
    },
    {
      "cell_type": "markdown",
      "source": [
        "**What's the difference between a class definition and a class instance?**\n",
        "\n",
        "* Class definition: Blueprint for data and behavior.\n",
        "\n",
        "* Class Instance: A real instance of the blueprint with its own unique info.\n",
        "\n",
        "**Is an object a class instance?**\n",
        "\n",
        "- Yes!\n",
        "\n",
        "**What's the difference between a class attribute and a class method?**\n",
        "\n",
        "- Attributes are information. They are pieces of data. Attributes can be unique to instances or general to a class.\n",
        "\n",
        "- Method - behavior that belongs to the class.\n",
        "\n",
        "**Example Classes**\n",
        "\n",
        "- Class: People, Instances: Kendall, Yoline, etc.\n",
        "\n",
        "- - People Atttributes: Age, Weight, Emotions, Height\n",
        "\n",
        "- - People Methods: Dance, sing, learn, Eat, make decisions, learn\n",
        "\n",
        "\n",
        "\n",
        "\n",
        "- Class: Animal, Instances: Kendall's Cat, Jazz, Clarkston's dog Hershey, Cinere's dog Honey\n",
        "\n",
        "- - Animal Attributes; type, color, age, breed , size, location\n",
        "\n",
        "- - Animal Methods: run, walk, bark, play, flip, jump\n",
        "\n",
        "- Class: Ball, Instances: Soccer ball, Matthew's basketball.\n",
        "\n"
      ],
      "metadata": {
        "id": "SZ9OrI1Ggk3l"
      }
    },
    {
      "cell_type": "code",
      "execution_count": 14,
      "metadata": {
        "id": "zsmsN1agNZVi",
        "colab": {
          "base_uri": "https://localhost:8080/"
        },
        "outputId": "e0e0afde-2629-4056-bc58-bad5641c437a"
      },
      "outputs": [
        {
          "output_type": "stream",
          "name": "stdout",
          "text": [
            "Kendall Technical Instructor red\n"
          ]
        }
      ],
      "source": [
        "class UserProfile:\n",
        "  def __init__(self, name, occupation, is_student, program):\n",
        "    self.name = name\n",
        "    self.occupation = occupation\n",
        "    self.is_student = is_student\n",
        "    self.program = program\n",
        "    self.background_color = \"red\"\n",
        "\n",
        "    def customize_background(self, color):\n",
        "      self.background_color = color\n",
        "\n",
        "  def make_a_post(self, post):\n",
        "   print(post)\n",
        "\n",
        "kendall_profile = UserProfile(\"Kendall\", \"Technical Instructor\",False, \"Hustle OUSD\")\n",
        "\n",
        "print(kendall_profile.name,kendall_profile.occupation, kendall_profile.background_color)"
      ]
    }
  ]
}