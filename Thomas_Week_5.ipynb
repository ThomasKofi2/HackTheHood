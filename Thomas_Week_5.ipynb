{
  "nbformat": 4,
  "nbformat_minor": 0,
  "metadata": {
    "colab": {
      "provenance": [],
      "authorship_tag": "ABX9TyOyVnRYs3zSukGrr202yGw5",
      "include_colab_link": true
    },
    "kernelspec": {
      "name": "python3",
      "display_name": "Python 3"
    },
    "language_info": {
      "name": "python"
    }
  },
  "cells": [
    {
      "cell_type": "markdown",
      "metadata": {
        "id": "view-in-github",
        "colab_type": "text"
      },
      "source": [
        "<a href=\"https://colab.research.google.com/github/ThomasKofi2/HackTheHood/blob/main/Thomas_Week_5.ipynb\" target=\"_parent\"><img src=\"https://colab.research.google.com/assets/colab-badge.svg\" alt=\"Open In Colab\"/></a>"
      ]
    },
    {
      "cell_type": "code",
      "execution_count": null,
      "metadata": {
        "id": "cimbcdGDV54L"
      },
      "outputs": [],
      "source": [
        "# Pseudo code\n",
        "\n",
        "# This file will be review, data types, lists, conditionals, loops"
      ]
    },
    {
      "cell_type": "markdown",
      "source": [
        "## Lists"
      ],
      "metadata": {
        "id": "5cB9_zNKXy2-"
      }
    },
    {
      "cell_type": "code",
      "source": [
        "# Make an integer variable and print it\n",
        "\n",
        "integer_var=10\n",
        "\n",
        "print(integer_var)\n",
        "\n",
        "\n",
        " # Make a string variable and print it\n",
        "\n",
        "string_var = \"My name is..\"\n",
        "\n",
        "print (string_var)\n",
        "\n",
        "\n",
        " # Make a two different boolean variables and print them\n",
        "\n",
        "boolean_1 = False\n",
        "boolean_2 = True\n",
        "\n",
        "print(boolean_1)\n",
        "print(boolean_2)\n",
        "\n",
        "\n",
        " # Make a float variable and print it\n",
        "\n",
        "float_number= 3.14\n",
        "print(float_number)\n",
        "\n",
        "# Add two integers and print it\n",
        "\n",
        "int_add = 12+3\n",
        "print (int_add)\n",
        "\n",
        "# Subtract two floats and print it\n",
        "\n",
        "float_diff = 5.75 -2.25\n",
        "print (float_diff)\n",
        "\n",
        "# Put two strings together\n",
        "\n",
        "combined_string = \"How are you\" + \" doing today?\"\n",
        "print (combined_string)"
      ],
      "metadata": {
        "id": "FF_Cc9qoX-kQ"
      },
      "execution_count": null,
      "outputs": []
    },
    {
      "cell_type": "markdown",
      "source": [
        "## Lists"
      ],
      "metadata": {
        "id": "Hrz3ozS1cI66"
      }
    },
    {
      "cell_type": "code",
      "source": [
        "# 1. Create a list and then print it, making sure to give it a descriptive variable name:\n",
        "\n",
        "tech_items = [ 'macbook', 'camera', 'mouse', 'airpods', 'apple watch']\n",
        "print (tech_items)\n",
        "\n",
        "# 2. Index practice with this list\n",
        "my_colors = ['green', 'blue', 'pink', 'acquamarine']\n",
        " print(my_colors[2])\n",
        " print(my_colors[1:3])\n",
        "# 2a. Print the third color through indexing\n",
        "print(my_colors[2])\n",
        "\n",
        "# 2b. Print the last color through indexing\n",
        " print(my_colors[3])\n",
        "\n",
        "# 2c. Print the first three colors through indexing\n",
        "\n",
        "print(my_colors[0:3])\n",
        "\n",
        "# 2d. Set up the print statement so the output is: green  pink blue\n",
        "print(my_colors[0], my_colors[2], my_colors[1])\n"
      ],
      "metadata": {
        "id": "urflBNLncJ4M"
      },
      "execution_count": null,
      "outputs": []
    },
    {
      "cell_type": "markdown",
      "source": [
        "##Conditionals"
      ],
      "metadata": {
        "id": "qbQ5XYDAgGWk"
      }
    },
    {
      "cell_type": "code",
      "source": [
        "# Step 1: Simple if statment with arithmetic operators\n",
        "# Step 2: Write an else statement if they are under 18\n",
        "# Step 3: add an elif statement to check if they are going to be 18 in four years\n",
        "\n",
        "age = int(input('how old are you '))\n",
        "check_age = age +4\n",
        "\n",
        "\n",
        "if age >= 18:\n",
        "  print(\"You can vote\")\n",
        "\n",
        "elif check_age >= 18:\n",
        "  print(\"You can vote next time\")\n",
        "\n",
        "else:\n",
        "  print(\"sorry you can't vote yet\")\n",
        "\n"
      ],
      "metadata": {
        "colab": {
          "base_uri": "https://localhost:8080/"
        },
        "id": "Lgf8pSxlgJ8P",
        "outputId": "1c5c5b8d-5bf7-48a7-b28b-0db5264600aa"
      },
      "execution_count": 3,
      "outputs": [
        {
          "output_type": "stream",
          "name": "stdout",
          "text": [
            "how old are you 14\n",
            "You can vote next time\n"
          ]
        }
      ]
    },
    {
      "cell_type": "markdown",
      "source": [
        "##Loops"
      ],
      "metadata": {
        "id": "0E3bBQDOnXyl"
      }
    },
    {
      "cell_type": "code",
      "source": [
        "# while loops\n",
        "\n",
        "current_hour = 0\n",
        "\n",
        "while current_hour < 24:\n",
        "  print(f\"The current time in {current_hour} o'clock!\")\n",
        "  current_hour += 1"
      ],
      "metadata": {
        "colab": {
          "base_uri": "https://localhost:8080/"
        },
        "id": "Razd543InZzK",
        "outputId": "0c670609-e4be-4750-fde1-df5223f7227d"
      },
      "execution_count": 4,
      "outputs": [
        {
          "output_type": "stream",
          "name": "stdout",
          "text": [
            "The current time in 0o'clock\n",
            "The current time in 1o'clock\n",
            "The current time in 2o'clock\n",
            "The current time in 3o'clock\n",
            "The current time in 4o'clock\n",
            "The current time in 5o'clock\n",
            "The current time in 6o'clock\n",
            "The current time in 7o'clock\n",
            "The current time in 8o'clock\n",
            "The current time in 9o'clock\n",
            "The current time in 10o'clock\n",
            "The current time in 11o'clock\n",
            "The current time in 12o'clock\n",
            "The current time in 13o'clock\n",
            "The current time in 14o'clock\n",
            "The current time in 15o'clock\n",
            "The current time in 16o'clock\n",
            "The current time in 17o'clock\n",
            "The current time in 18o'clock\n",
            "The current time in 19o'clock\n",
            "The current time in 20o'clock\n",
            "The current time in 21o'clock\n",
            "The current time in 22o'clock\n",
            "The current time in 23o'clock\n"
          ]
        }
      ]
    },
    {
      "cell_type": "markdown",
      "source": [
        "## for loops"
      ],
      "metadata": {
        "id": "yPPzSlhMpH61"
      }
    },
    {
      "cell_type": "code",
      "source": [
        "# For loops\n",
        "\n",
        "zoo = ['elephant', 'giraffe', 'hippo', 'lion']\n",
        "\n",
        "zoo_size = len(zoo)\n",
        "\n",
        "#print(zoo_size)\n",
        "for zoo_spot_num in range(zoo_size):\n",
        "  #print(zoo_spot_num)\n",
        "  #print(zoo[zoo_spot_num])\n",
        "  print(f\"Welcome to space # {zoo_spot_num + 1}! Here, we have {zoo[zoo_spot_num]}\")"
      ],
      "metadata": {
        "colab": {
          "base_uri": "https://localhost:8080/"
        },
        "id": "_-lttXjVpJ10",
        "outputId": "9dd8eedb-bcad-45d0-860a-ef9a7c716983"
      },
      "execution_count": 5,
      "outputs": [
        {
          "output_type": "stream",
          "name": "stdout",
          "text": [
            "0\n",
            "elephant\n",
            "1\n",
            "giraffe\n",
            "2\n",
            "hippo\n",
            "3\n",
            "lion\n"
          ]
        }
      ]
    }
  ]
}