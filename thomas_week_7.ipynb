{
  "nbformat": 4,
  "nbformat_minor": 0,
  "metadata": {
    "colab": {
      "provenance": [],
      "authorship_tag": "ABX9TyPQWOZgeWNVuJcuHfkUbaG9",
      "include_colab_link": true
    },
    "kernelspec": {
      "name": "python3",
      "display_name": "Python 3"
    },
    "language_info": {
      "name": "python"
    }
  },
  "cells": [
    {
      "cell_type": "markdown",
      "metadata": {
        "id": "view-in-github",
        "colab_type": "text"
      },
      "source": [
        "<a href=\"https://colab.research.google.com/github/ThomasKofi2/HackTheHood/blob/main/thomas_week_7.ipynb\" target=\"_parent\"><img src=\"https://colab.research.google.com/assets/colab-badge.svg\" alt=\"Open In Colab\"/></a>"
      ]
    },
    {
      "cell_type": "code",
      "execution_count": null,
      "metadata": {
        "id": "q_WoqW6zaisN"
      },
      "outputs": [],
      "source": []
    },
    {
      "cell_type": "markdown",
      "source": [
        "# Inputs\n",
        "\n",
        "Ask the user a CLEAR question!!!\n",
        "\n",
        "\n",
        "\n",
        "Make sure you are asking the use a CLEAR question\n",
        "\n",
        "Remember that inputs return the value as a string\n",
        "\n",
        "Input is a function!\n",
        "\n",
        "combos:\n",
        "\n",
        "int(input(\"_________\")) = changes to an integer, a whole number\n",
        "\n",
        "float(input(\"______\")) = changes to a float (decimaals)\n",
        "\n",
        "str(input(\"_____\")) = changes to a a string"
      ],
      "metadata": {
        "id": "36ypDe9TbJG9"
      }
    },
    {
      "cell_type": "code",
      "source": [
        "#1 Create and print a variable that contains a name using the `input()` function\n",
        "\n",
        "name = input(\"What is your name?\")\n",
        "print(name)\n",
        "\n",
        "\n",
        "#2 Create and print a variable that contains a float using the `input()` function\n",
        "gpa = float(input(\"Enter your gpa\"))\n",
        "print(gpa)\n",
        "\n",
        "\n",
        "#3 Create and print a variable that contains an integer using the `input()` function\n",
        "integer = int (input(\" Enter your age\"))\n",
        "print(integer)\n",
        "\n",
        "#4 Create and print a variable that contains a string using the `input()` function\n",
        "String_Value = str (input(\"What are you holding\"))\n",
        "print(String_Value)\n",
        "\n",
        "#5 Create and print a variable that contains an integer using the `input()` function and add it to another variable\n",
        "#add_integer = int ((input(98)) +  (input(63)))\n",
        "#print(add_integer)\n",
        "\n",
        "#6 Using the `input()` function, create and print a statement which greets the user.\n",
        "name = input(\"What is your name?\")\n",
        "print(f\"Welcome to this class {name}\")"
      ],
      "metadata": {
        "colab": {
          "base_uri": "https://localhost:8080/"
        },
        "id": "EwsBNbgrbTfY",
        "outputId": "d09a5008-80d2-48e8-baf7-ffe0afd92eab"
      },
      "execution_count": null,
      "outputs": [
        {
          "output_type": "stream",
          "name": "stdout",
          "text": [
            "What is your name?Tom\n",
            "Tom\n",
            "Enter your gpa1.3\n",
            "1.3\n",
            " Enter your age15\n",
            "15\n",
            "What are you holdingbag\n",
            "bag\n",
            "What is your name?tom\n",
            "Welcome to this class+ tom\n"
          ]
        }
      ]
    },
    {
      "cell_type": "markdown",
      "source": [
        "# Conditionals\n",
        "\n",
        "Statements!\n",
        "\n",
        "\n",
        "*   IF statement, when true, a condition will happen\n",
        "*   There is always a colon `:` at the end\n",
        "*   The next line of code that follows the statement is   \n",
        "      always indented\n",
        "\n",
        "Set up:\n",
        "\n",
        "if _______:\n",
        "  (your code here)\n",
        "\n",
        "\n",
        "\n",
        "elif ________:\n",
        "  (your code here)\n",
        "\n",
        "\n",
        "\n",
        "else:\n",
        "  (your code here)"
      ],
      "metadata": {
        "id": "Cak72kPCjLwB"
      }
    },
    {
      "cell_type": "code",
      "source": [
        "# Voting Eligibility Checker\n",
        "\n",
        "# Step 1: Ask the user to enter their age\n",
        "user_age = int(input(\"Enter your age: \"))\n",
        "print(user_age)\n",
        "\n",
        "time_to_vote = 18 - user_age\n",
        "\n",
        "# Tell them a specific statement based off that age\n",
        "if user_age >=18:\n",
        "  print(\"Congrats! You can vote\")\n",
        "elif time_to_vote > 0:\n",
        "  print(f\"You can vote in {time_to_vote} years\")\n",
        "else:\n",
        "  print(\"You cannot vote yet\")\n",
        "#Step 2.1\n",
        "# If the age is 18 or older, print that the user can vote\n",
        "#Step 2.2\n",
        "#Elif the user will be 18 in two years, tell them they can vote in two years\n",
        "#Step 2.3\n",
        "#If they aren't,\n",
        "#print that the user cannot vote yet"
      ],
      "metadata": {
        "colab": {
          "base_uri": "https://localhost:8080/"
        },
        "id": "BNefFm8wjvvr",
        "outputId": "37bed617-e3fe-4bf2-b980-0b9f4435893f"
      },
      "execution_count": null,
      "outputs": [
        {
          "output_type": "stream",
          "name": "stdout",
          "text": [
            "Enter your age: 17\n",
            "17\n",
            "You can vote in 1 years\n"
          ]
        }
      ]
    },
    {
      "cell_type": "code",
      "source": [
        "# The computer came up with a secret_number\n",
        "#The computer gave us a range\n",
        "# The user gave a guess as an integer\n",
        "# Computer checks IF it is the number\n",
        "# If number === computer number TRUE, YES\n",
        "#     the computer stopped the game\n",
        "# IF Not (!) than false\n",
        "#   The computer gave hints (lower than or higher than)\n",
        "#   it goes back to line #2, asking the user\n",
        "\n",
        "secret_number = 35\n",
        "\n",
        "user_guess = int(input(\"Give a number, between 10-39: \"))\n",
        "\n",
        "while user_guess != secret_number:\n",
        "  if user_guess < secret_number:\n",
        "    print(\"You guessed too low\")\n",
        "  elif user_guess > secret_number:\n",
        "    print('you guessed too high')\n",
        "\n",
        "  user_guess = int(input(\"Give a number, between 10-39: \"))\n",
        "\n",
        "if user_guess == secret_number:\n",
        "  print('You guessed it! good job')"
      ],
      "metadata": {
        "id": "g3aflvBEqGDQ"
      },
      "execution_count": null,
      "outputs": []
    },
    {
      "cell_type": "markdown",
      "source": [
        "# Functions!!!!\n",
        "\n",
        "**What is a function?**\n",
        "\n",
        "Function is a resuable block of code\n",
        "\n",
        "They can take inputs, and give outputs.\n",
        "\n",
        "ex:\n",
        "input(), len(), int(), print()\n",
        "\n",
        "**What is the syntax to create a function?**\n",
        "\n",
        "\n",
        "\n",
        "1.   `def` key starts the function\n",
        "2.   followed by the function name `snake_case`\n",
        "3.   followed by a parenthesis `()`\n",
        "4.   ends with a colon `:`\n",
        "5.   Next lines of code is indented\n",
        "\n",
        "**What are parameters / arguments?**\n",
        "\n",
        "Variables listed inside of the parenthesis, can have multiple, separated by a comma\n",
        "\n",
        "**What is the syntax to call a function?**\n",
        "\n",
        "use function name, and then the parenthesis. If it takes an argument, you place that argument inside of the parenthesis"
      ],
      "metadata": {
        "id": "4knE-OTFuONI"
      }
    },
    {
      "cell_type": "code",
      "source": [
        "def my_greeting():\n",
        "  print(\"Hello There\")\n",
        "\n",
        "my_greeting()"
      ],
      "metadata": {
        "colab": {
          "base_uri": "https://localhost:8080/"
        },
        "id": "RhlQaglRuRea",
        "outputId": "a0da5a16-62ba-4059-84ff-2d4cbfc645a2"
      },
      "execution_count": null,
      "outputs": [
        {
          "output_type": "stream",
          "name": "stdout",
          "text": [
            "Hello There\n"
          ]
        }
      ]
    },
    {
      "cell_type": "code",
      "source": [
        "# Define function names greet_name and have the argument be name\n",
        "\n",
        "def greet_name(name):\n",
        "  print(f\"Hello, {name}\") # set this print statment to call up name.\n",
        "\n",
        "greet_name(\"Thomas\")\n",
        "\n",
        "\n",
        "def my_greeting():\n",
        "  print(\"Hey, what's up?\")\n",
        "def greet_name(name):\n",
        "  print(f\"Hello, {name}\")\n",
        "  my_greeting()\n",
        "greet_name(input(\"What is your name?\"))"
      ],
      "metadata": {
        "colab": {
          "base_uri": "https://localhost:8080/"
        },
        "id": "Ya2K6iXWvH28",
        "outputId": "64e0d2c5-aaeb-4bed-d953-af90c23e93c5"
      },
      "execution_count": null,
      "outputs": [
        {
          "output_type": "stream",
          "name": "stdout",
          "text": [
            "Hello, Thomas\n"
          ]
        }
      ]
    }
  ]
}