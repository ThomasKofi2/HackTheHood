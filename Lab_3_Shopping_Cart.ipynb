{
  "nbformat": 4,
  "nbformat_minor": 0,
  "metadata": {
    "colab": {
      "provenance": [],
      "mount_file_id": "1Up8gMw0Db0SVDY9BQNTi0T6JrbpBBevr",
      "authorship_tag": "ABX9TyP4CgexyE2clZ4Z+Jvy98md",
      "include_colab_link": true
    },
    "kernelspec": {
      "name": "python3",
      "display_name": "Python 3"
    },
    "language_info": {
      "name": "python"
    }
  },
  "cells": [
    {
      "cell_type": "markdown",
      "metadata": {
        "id": "view-in-github",
        "colab_type": "text"
      },
      "source": [
        "<a href=\"https://colab.research.google.com/github/ThomasKofi2/HackTheHood/blob/main/Lab_3_Shopping_Cart.ipynb\" target=\"_parent\"><img src=\"https://colab.research.google.com/assets/colab-badge.svg\" alt=\"Open In Colab\"/></a>"
      ]
    },
    {
      "cell_type": "code",
      "execution_count": null,
      "metadata": {
        "id": "re4SoOakyU6W"
      },
      "outputs": [],
      "source": []
    },
    {
      "cell_type": "markdown",
      "source": [
        "# Shopping Cart:\n",
        "\n",
        "## Part 1\n",
        "\n",
        "1. What do I have?\n",
        "- I have the variables I want to use.\n",
        "- I have defined a way to check if something is already on my cart.\n",
        "- I have a way to ask the user for data.\n",
        "2. what do I want?\n",
        "I want to start the process of building a shopping cart.\n",
        "\n",
        "3. what do I need?\n",
        "- a place to hold items.\n",
        "    \n",
        "    `cart`\n",
        "\n",
        "a way to add items to our list\n",
        "    \n",
        "    `cart.append()`\n",
        "a way to print the items in our list\n",
        "    \n",
        "    `print(\"\"\"\"\"\"\" STUFF \"\"\"\"\"\"\")`\n",
        "\n",
        "\n",
        "a way to check if an item is already on that list. (optional)\n",
        "    `if` item is on the cart\n",
        "    `then`   do something\n",
        "    `else`   do somethign else\n",
        "The application will ask the user for items and then add them to a list which we call cart.  then a process will check if the item entered is on the list and if it is, the item will not be placed on that list."
      ],
      "metadata": {
        "id": "rXpg0_bjy32p"
      }
    },
    {
      "cell_type": "markdown",
      "source": [],
      "metadata": {
        "id": "zs001KW625Sg"
      }
    },
    {
      "cell_type": "code",
      "source": [
        "cart=[]"
      ],
      "metadata": {
        "id": "KAeYKH7J3B86"
      },
      "execution_count": 2,
      "outputs": []
    },
    {
      "cell_type": "code",
      "source": [
        "cart.append('tacos')\n",
        "print(f\"The items in your cart are: {cart}\")\n"
      ],
      "metadata": {
        "colab": {
          "base_uri": "https://localhost:8080/"
        },
        "id": "gUPXgZo_3Q5v",
        "outputId": "1697ece4-db3a-4f6f-8f11-24704776a8e6"
      },
      "execution_count": 3,
      "outputs": [
        {
          "output_type": "stream",
          "name": "stdout",
          "text": [
            "The items in your cart are: ['tacos']\n"
          ]
        }
      ]
    },
    {
      "cell_type": "code",
      "source": [
        "item = input('What would you like to add to the shopping cart? ')\n",
        "#TODO: Commant this line\n",
        "cart.append(item)\n",
        "#TODO: Commant this line\n",
        "print(f\"The items in your cart are: {cart}\")\n",
        "#TODO: Commant this line"
      ],
      "metadata": {
        "colab": {
          "base_uri": "https://localhost:8080/"
        },
        "id": "7airqTV54cFE",
        "outputId": "4567aa17-0319-4fe5-d6e9-978265f59d22"
      },
      "execution_count": 8,
      "outputs": [
        {
          "output_type": "stream",
          "name": "stdout",
          "text": [
            "What would you like to add to the shopping cart? food\n",
            "The items in your cart are: ['tacos', 'ice crea', 'ice cream', 'food']\n"
          ]
        }
      ]
    },
    {
      "cell_type": "code",
      "source": [
        "print(f\"The items in your cart are: {cart}\")\n",
        "item = input('What would you like to add to the shopping cart? ')\n",
        "#TODO: Commant this line\n",
        "'''\n",
        "`if` item is on the cart\n",
        "`then`   do something\n",
        "`else`   do somethign else\n",
        "'''\n",
        "if item in cart:\n",
        "    print(f'{item} is already on the cart.')\n",
        "else:\n",
        "    cart.append(item)\n",
        "    #TODO: Commant this line\n",
        "print(f\"The items in your cart are: {cart}\")\n",
        "#TODO: Commant this line"
      ],
      "metadata": {
        "colab": {
          "base_uri": "https://localhost:8080/"
        },
        "id": "fcYvea7o4cNr",
        "outputId": "7004cf18-0afa-47cb-d45d-3ed15a8f8b8a"
      },
      "execution_count": null,
      "outputs": [
        {
          "output_type": "stream",
          "name": "stdout",
          "text": [
            "The items in your cart are: ['tacos', 'ice crea', 'ice cream', 'food']\n"
          ]
        }
      ]
    },
    {
      "cell_type": "code",
      "source": [
        "print(f\"The items in your cart are: {cart}\")\n",
        "item = input('What would you like to add to the shopping cart? ')\n",
        "#TODO: Commant this line\n",
        "'''\n",
        "`if` item is on the cart\n",
        "`then`   do something\n",
        "`else`   do somethign else\n",
        "'''\n",
        "if item in cart:\n",
        "    #TODO: Commant this line\n",
        "    print(f'{item} is already on the cart.')\n",
        "    #TODO: Commant this line\n",
        "else:\n",
        "#TODO: Commant this line\n",
        "    cart.append(item)\n",
        "    #TODO: Commant this line\n",
        "print(f\"The items in your cart are: {cart}\")\n",
        "#TODO: Commant this line"
      ],
      "metadata": {
        "id": "07LnZHEu4cRA"
      },
      "execution_count": null,
      "outputs": []
    },
    {
      "cell_type": "code",
      "source": [],
      "metadata": {
        "id": "4syccvX04cTy"
      },
      "execution_count": null,
      "outputs": []
    },
    {
      "cell_type": "code",
      "source": [],
      "metadata": {
        "id": "GDT7r0z_4cW9"
      },
      "execution_count": null,
      "outputs": []
    },
    {
      "cell_type": "code",
      "source": [],
      "metadata": {
        "id": "3q2fR1nP4cZ3"
      },
      "execution_count": null,
      "outputs": []
    },
    {
      "cell_type": "code",
      "source": [],
      "metadata": {
        "id": "L6910gmi4ccp"
      },
      "execution_count": null,
      "outputs": []
    },
    {
      "cell_type": "code",
      "source": [],
      "metadata": {
        "id": "sjT9xisI4cfw"
      },
      "execution_count": null,
      "outputs": []
    },
    {
      "cell_type": "code",
      "source": [],
      "metadata": {
        "id": "TMQHN5dk4ci_"
      },
      "execution_count": null,
      "outputs": []
    },
    {
      "cell_type": "code",
      "source": [],
      "metadata": {
        "id": "M19qTXnV4cmk"
      },
      "execution_count": null,
      "outputs": []
    }
  ]
}