{
  "nbformat": 4,
  "nbformat_minor": 0,
  "metadata": {
    "colab": {
      "provenance": [],
      "authorship_tag": "ABX9TyOVR8f8xyf0+lgTocSHFo0V",
      "include_colab_link": true
    },
    "kernelspec": {
      "name": "python3",
      "display_name": "Python 3"
    },
    "language_info": {
      "name": "python"
    }
  },
  "cells": [
    {
      "cell_type": "markdown",
      "metadata": {
        "id": "view-in-github",
        "colab_type": "text"
      },
      "source": [
        "<a href=\"https://colab.research.google.com/github/ThomasKofi2/HackTheHood/blob/main/review_week_4.ipynb\" target=\"_parent\"><img src=\"https://colab.research.google.com/assets/colab-badge.svg\" alt=\"Open In Colab\"/></a>"
      ]
    },
    {
      "cell_type": "markdown",
      "source": [
        "##Inputs"
      ],
      "metadata": {
        "id": "SuokkMbbUaS0"
      }
    },
    {
      "cell_type": "code",
      "source": [
        "# Step 1: Get the user's name as input\n",
        "# \"Hello ________, \"\n",
        "\n",
        "user_name= input(\"What is your name? \")\n",
        "\n",
        "print(f\"Hello {user_name}, welcome to the zoom call!!\" )\n",
        "\n",
        "\n",
        "# Step 2: Get the user's age as input and convert it to an integer\n",
        "\n",
        "user_age = int(input(\"What is your age? \"))\n",
        "\n",
        "print(user_age)\n",
        "\n",
        "# print(\"This is the type of user_age\")\n",
        "# print(type(user_age))\n",
        "\n",
        "# Step 3: Calculate the user's age in 5 years\n",
        "\n",
        "user_age_in_5 = int (user_age) + 5\n",
        "\n",
        "#Step 4: Give me an f-string that calls the user_name and future_age\n",
        "\n",
        "print(f\"Your age in 5 years will be {user_age_in_5}, {user_name}\")\n",
        "\n",
        "# or like this below:\n",
        "\n",
        "print (user_name + \" will be \" + str(user_age_in_5) + \" in 5 years\")\n",
        "\n"
      ],
      "metadata": {
        "colab": {
          "base_uri": "https://localhost:8080/"
        },
        "id": "bUrOPLM7UgDm",
        "outputId": "15e20d72-a7e1-46c1-b006-12bfd6be694b"
      },
      "execution_count": 21,
      "outputs": [
        {
          "output_type": "stream",
          "name": "stdout",
          "text": [
            "What is your name? Thomas\n",
            "Hello Thomas, welcome to the zoom call!!\n",
            "What is your age? 18\n",
            "18\n",
            "Your age in 5 years will be 23, Thomas\n",
            "Thomas will be 23 in 5 years\n"
          ]
        }
      ]
    },
    {
      "cell_type": "markdown",
      "source": [
        "## Condtionals"
      ],
      "metadata": {
        "id": "sbD5bzOwefx8"
      }
    },
    {
      "cell_type": "code",
      "source": [
        "# Step 1: Introducing if and else with comparison operators\n",
        "age = int(input(\"What is your age? Whole numbers only please : \"))\n",
        "\n",
        "\n",
        "future_age = age + 2\n",
        "\n",
        "if age >= 18:\n",
        "    print(\"You can go vote\")\n",
        "elif future_age >= 18:\n",
        "        print(\"You can vote in 2 years\")\n",
        "else:\n",
        "    print(\"You can't vote yet\")\n",
        "\n"
      ],
      "metadata": {
        "colab": {
          "base_uri": "https://localhost:8080/"
        },
        "id": "_ZdbCQumej_r",
        "outputId": "bb8bcfc4-ad86-4cfc-e121-46614344cf29"
      },
      "execution_count": 31,
      "outputs": [
        {
          "output_type": "stream",
          "name": "stdout",
          "text": [
            "What is your age? Whole numbers only please : 15\n",
            "You can't vote yet\n"
          ]
        }
      ]
    },
    {
      "cell_type": "markdown",
      "source": [
        "## Membership Operator"
      ],
      "metadata": {
        "id": "u7BMLgymj7v0"
      }
    },
    {
      "cell_type": "code",
      "source": [
        "# Step 3: Using membership operators to check membership in a list\n",
        "buy_fruit = input(\"What fruit would you like to buy?\")\n",
        "\n",
        "\n",
        "fruits = [\"apple\", \"banana\", \"orange\", \"grape\", \"pineapple\"]\n",
        "\n",
        "if buy_fruit.lower() in fruits:\n",
        "    print(\"We have that fruit\")\n",
        "else:\n",
        "    print(f\"{buy_fruit.capitalize()}is not in the list of fruits.\")"
      ],
      "metadata": {
        "id": "w9VFsMXfj_PL"
      },
      "execution_count": null,
      "outputs": []
    },
    {
      "cell_type": "markdown",
      "source": [
        "# Operators"
      ],
      "metadata": {
        "id": "xw7nJEsDltbD"
      }
    },
    {
      "cell_type": "code",
      "source": [
        "# Mini Step 4.0: Handling Yes or No Input with Truthy or Falsey Outcome\n",
        "# We will get a yes or no input from the user and convert it to a boolean value\n",
        "\n",
        "# Get input from the user\n",
        "response = input(\"Do you have permission from your parents? (yes/no): \").lower()\n",
        "\n",
        "# Convert the input to a boolean value\n",
        "\n",
        "has_permission =  (response == \"yes\")\n",
        "\n",
        "print('boolean value for has_permission', has_permission)\n",
        "\n",
        " #if has_permission:\n",
        "    # print(\"You can enter the building\")\n",
        "# else:\n",
        "    # print(\"You can't enter the building\")\n",
        "\n",
        "    # if has_permission:\n",
        "if response == \"yes\":\n",
        "  print(\"you can enter the building\")\n",
        "else:\n",
        "  print(\"you can't enter the building\")\n",
        "\n",
        "  # 4.1 Using 'and' operator:\n",
        "\n",
        "  age = int(input(\"Please enter your age:\"))\n",
        "\n",
        "  if age >= 18 and age<=65:\n",
        "    print(\"welcome to the club!\")\n",
        "  else:\n",
        "    print(\"No, get out\")\n"
      ],
      "metadata": {
        "colab": {
          "base_uri": "https://localhost:8080/"
        },
        "id": "qZvIpRA6lvkV",
        "outputId": "0b9cfc74-86ac-4e2a-f427-33fde83d8d0d"
      },
      "execution_count": 44,
      "outputs": [
        {
          "output_type": "stream",
          "name": "stdout",
          "text": [
            "Do you have permission from your parents? (yes/no): no\n",
            "boolean value for has_permission False\n",
            "you can't enter the building\n",
            "Please enter your age:19\n",
            "welcome to the club!\n"
          ]
        }
      ]
    },
    {
      "cell_type": "code",
      "source": [],
      "metadata": {
        "id": "7LStgeekoWNe"
      },
      "execution_count": null,
      "outputs": []
    }
  ]
}