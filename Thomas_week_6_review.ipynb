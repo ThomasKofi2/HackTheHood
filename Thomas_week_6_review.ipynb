{
  "nbformat": 4,
  "nbformat_minor": 0,
  "metadata": {
    "colab": {
      "provenance": [],
      "collapsed_sections": [
        "kPty0R9pau54"
      ],
      "include_colab_link": true
    },
    "kernelspec": {
      "name": "python3",
      "display_name": "Python 3"
    },
    "language_info": {
      "name": "python"
    }
  },
  "cells": [
    {
      "cell_type": "markdown",
      "metadata": {
        "id": "view-in-github",
        "colab_type": "text"
      },
      "source": [
        "<a href=\"https://colab.research.google.com/github/ThomasKofi2/HackTheHood/blob/main/Thomas_week_6_review.ipynb\" target=\"_parent\"><img src=\"https://colab.research.google.com/assets/colab-badge.svg\" alt=\"Open In Colab\"/></a>"
      ]
    },
    {
      "cell_type": "markdown",
      "source": [
        "# Iteration\n"
      ],
      "metadata": {
        "id": "kPty0R9pau54"
      }
    },
    {
      "cell_type": "code",
      "execution_count": null,
      "metadata": {
        "id": "Tp40SzLUaUem"
      },
      "outputs": [],
      "source": [
        "# press cmd + '?' key to mass comment lines\n",
        "\n",
        "# What is iteration?\n",
        "# - A process being repeated over and over again.\n",
        "\n",
        "# What is a while loop?\n",
        "# - A loop that runs while the condition is true.\n",
        "\n",
        "# What is a for loop?\n",
        "# - A loop that runs a known number of times.\n",
        "\n",
        "\n",
        "# while loop or for loop?\n",
        "\n",
        "# 1. Print out each name on a student roster.\n",
        "# - I would use a for loop since number of students in class is probably known.\n",
        "\n",
        "# 2. Have a user guess letters until they have figured out a secret word.\n",
        "# - I would use a while loop and iterate that while (secret word) is false guess letters until secret word is true\n",
        "\n",
        "# 3 Count from 1 to 100\n",
        "# I. would use a while loop where i start from 1 and then create a loop that incrememts that value each time it runs till i <= 100."
      ]
    },
    {
      "cell_type": "markdown",
      "source": [
        "# Shopping Cart\n"
      ],
      "metadata": {
        "id": "PTfgX7CBi-eV"
      }
    },
    {
      "cell_type": "code",
      "source": [
        " #  1. Ask a user what they need from the grocery store, save these items in a data structure.\n",
        "item = input(' What do you need from the grocery store ')\n",
        "\n",
        "#initiate an empty data structure that is our list\n",
        "\n",
        "grocery_list = []\n",
        "\n",
        "\n",
        "# a way to get the user's item, tell me, what question should i ask?\n",
        "\n",
        "# How to add to my list?\n",
        "\n",
        "grocery_list.append(item)\n",
        "\n",
        "print(grocery_list)\n",
        "\n",
        "# We just want to have 5 items on the list.\n",
        "\n",
        "# How do I check how many items are in the list?\n",
        "number_of_items = len(grocery_list)\n",
        "\n",
        "print(number_of_items)\n",
        "\n",
        "#How can I use that logic to make a for loop?\n",
        "# - Iterating over each item in the loop.\n",
        "\n",
        "for i in range(4):\n",
        "    item = input(' What do you need from the grocery store ')\n",
        "    grocery_list.append(item)\n",
        "    print(grocery_list)\n",
        "\n",
        "    ## or\n",
        "\n",
        "    # while len(grocery_list) < 5:\n",
        "#   item = input(\"What would you like to purchase today? \")\n",
        "#   grocery_list.append(item)\n",
        "#   print(grocery_list)\n",
        "\n",
        "\n",
        "#2 Create a data structure of grocery store items and their prices\n",
        "# Data structure of grocery store items and their prices\n",
        "\n",
        "grocery_store = {\n",
        "    'apple': 0.50,\n",
        "    'banana': 0.30,\n",
        "    'milk': 1.20,\n",
        "    'bread': 2.00,\n",
        "    'eggs': 2.50\n",
        "}\n",
        "\n",
        "\n",
        "grocery_store = ['apple', 'banana', 'milk', 'break', 'eggs']\n",
        "# 3. Create a data structure for the grocery cart.\n",
        "\n",
        "grocery_cart = []\n",
        "\n",
        "\n",
        "\n",
        "#4. For every item in the user's shopping list, see if the item is at the store.\n",
        "# If the item is at the store, add the item to the user's cart.\n",
        "\n",
        "for item in grocery_list:\n",
        " if item in grocery_store:\n",
        "  grocery_cart.append(item)\n",
        "  print(grocery_cart)\n",
        "else:\n",
        "    print(f\"{item} is not in store\")\n",
        "#4a. Build a conditional statement with item grocery_store. If it item is in store,\n",
        "#what should we do? If not, what should we do?\n",
        "\n",
        "\n",
        "print(f\"You can go to checkout - your cart has {grocery_cart}\")\n"
      ],
      "metadata": {
        "id": "XT-MRLxljDbC",
        "colab": {
          "base_uri": "https://localhost:8080/"
        },
        "outputId": "68b7ef2e-c2b5-416f-e68b-f884e68a424a"
      },
      "execution_count": null,
      "outputs": [
        {
          "output_type": "stream",
          "name": "stdout",
          "text": [
            " What do you need from the grocery store pear\n",
            "['pear']\n",
            "1\n",
            " What do you need from the grocery store banana\n",
            "['pear', 'banana']\n",
            " What do you need from the grocery store orange\n",
            "['pear', 'banana', 'orange']\n",
            " What do you need from the grocery store kiwi\n",
            "['pear', 'banana', 'orange', 'kiwi']\n",
            " What do you need from the grocery store salad\n",
            "['pear', 'banana', 'orange', 'kiwi', 'salad']\n"
          ]
        }
      ]
    }
  ]
}