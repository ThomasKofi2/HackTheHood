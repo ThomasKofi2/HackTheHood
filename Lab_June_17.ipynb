{
  "nbformat": 4,
  "nbformat_minor": 0,
  "metadata": {
    "colab": {
      "provenance": [],
      "authorship_tag": "ABX9TyMKpOZvBz0YthE23Ggajli5",
      "include_colab_link": true
    },
    "kernelspec": {
      "name": "python3",
      "display_name": "Python 3"
    },
    "language_info": {
      "name": "python"
    }
  },
  "cells": [
    {
      "cell_type": "markdown",
      "metadata": {
        "id": "view-in-github",
        "colab_type": "text"
      },
      "source": [
        "<a href=\"https://colab.research.google.com/github/ThomasKofi2/HackTheHood/blob/main/Lab_June_17.ipynb\" target=\"_parent\"><img src=\"https://colab.research.google.com/assets/colab-badge.svg\" alt=\"Open In Colab\"/></a>"
      ]
    },
    {
      "cell_type": "markdown",
      "source": [
        "### Intro to pseudo Code"
      ],
      "metadata": {
        "id": "VziwIMmhz0Hq"
      }
    },
    {
      "cell_type": "markdown",
      "source": [
        "### Psuedo code for my application\n",
        "I want to write a program that takes user input and prints it back to the screen.\n",
        "\n",
        "`First_name` the user's first name\n",
        "\n",
        "`Last_Name` the user's last name\n",
        "\n",
        "`Age` the user's age\n",
        "\n",
        "`Fav_Colour` the user's favourite colour\n",
        "\n",
        "`Fav_Sport` the user's favourite sport\n",
        "\n",
        "`Fav_Team` the user's favourite team\n",
        "\n",
        "use a 'built-in' process to take user's data.\n",
        "\n",
        "use a 'built-in' process to display user's data."
      ],
      "metadata": {
        "id": "HKDywr8q2Xtx"
      }
    },
    {
      "cell_type": "code",
      "source": [
        "First_name = 'John'\n",
        "Last_Name = 'Connor'\n",
        "Age = 23\n",
        "Fav_Colour = 'Gray'\n",
        "Fav_Sport = 'Soccer'\n",
        "Fav_Team = 'Man U'"
      ],
      "metadata": {
        "id": "4tUe6SvY38-8"
      },
      "execution_count": null,
      "outputs": []
    },
    {
      "cell_type": "code",
      "source": [
        "First_name = input('What is your first name? ')\n",
        "Last_Name = input('What is your last name? ')\n",
        "Age = input('What is your age? ')\n",
        "Fav_Colour = input('What is your favourite colour? ')\n",
        "Fav_Sport = input('What is your favourite sport? ')\n",
        "Fav_Team = input('What is your favourite team? ')"
      ],
      "metadata": {
        "colab": {
          "base_uri": "https://localhost:8080/"
        },
        "id": "hULJLlRh4Gmq",
        "outputId": "43463f19-897d-4fef-a292-bc389b1ffa19"
      },
      "execution_count": 1,
      "outputs": [
        {
          "name": "stdout",
          "output_type": "stream",
          "text": [
            "What is your first name? Thomas\n",
            "What is your last name? Acheampong\n",
            "What is your age? 18\n",
            "What is your favourite colour? blue\n",
            "What is your favourite sport? volleyball\n",
            "What is your favourite team? Lakers\n"
          ]
        }
      ]
    },
    {
      "cell_type": "code",
      "source": [
        "print(f\"User first name is, {First_name}, last name is, {Last_Name}, age is, {Age},\\\n",
        " favourite colour is, {Fav_Colour}, favourite sport is, {Fav_Sport}, favourite team is, {Fav_Team}\")"
      ],
      "metadata": {
        "id": "gfFiDN-f6Na7",
        "colab": {
          "base_uri": "https://localhost:8080/"
        },
        "outputId": "ce7c29c2-5764-4812-ab85-d8c1a9a886d9"
      },
      "execution_count": 2,
      "outputs": [
        {
          "output_type": "stream",
          "name": "stdout",
          "text": [
            "User first name is, Thomas, last name is, Acheampong, age is, 18, favourite colour is, blue, favourite sport is, volleyball, favourite team is, Lakers\n"
          ]
        }
      ]
    },
    {
      "cell_type": "markdown",
      "source": [
        "This line of code prints information from the first prompt successfully based on previous user input in the first prompt."
      ],
      "metadata": {
        "id": "KWSoqHkVg2EX"
      }
    }
  ]
}